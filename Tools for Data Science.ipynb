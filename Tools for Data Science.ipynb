{
 "cells": [
  {
   "cell_type": "markdown",
   "id": "7fca74a1",
   "metadata": {},
   "source": [
    "# IBM Coursera - Tools for Data Science Final Project"
   ]
  },
  {
   "cell_type": "markdown",
   "id": "0c3e2878",
   "metadata": {},
   "source": [
    "# Introduction\n",
    "In this notebook, we will review the tools for data science"
   ]
  },
  {
   "cell_type": "markdown",
   "id": "393cca54",
   "metadata": {},
   "source": [
    "# Data Science Languages\n",
    "Some of the popular languages used in Data Science are:\n",
    "1. Python\n",
    "2. R\n",
    "3. SQL\n",
    "4. Julia"
   ]
  },
  {
   "cell_type": "markdown",
   "id": "8127bd54",
   "metadata": {},
   "source": [
    "# Data Science Libraries\n",
    "Common libraries used in Data Science include:\n",
    "1. NumPy\n",
    "2. Pandas\n",
    "3. Matplotlib\n",
    "4. Scikit-learn\n",
    "5. TensorFlow\n",
    "6. PyTorch"
   ]
  },
  {
   "cell_type": "markdown",
   "id": "ff47519b",
   "metadata": {},
   "source": [
    "# Data Science Tools\n",
    "\n",
    "| Category | Tools |\n",
    "|----------|-------|\n",
    "| Development Environments | Jupyter Notebook, RStudio, VS Code |\n",
    "| Data Visualization | Tableau, Power BI, Matplotlib |\n",
    "| Machine Learning Frameworks | TensorFlow, PyTorch, Scikit-learn |\n",
    "| Big Data Tools | Apache Spark, Hadoop, Hive |"
   ]
  },
  {
   "cell_type": "markdown",
   "id": "7995680f",
   "metadata": {},
   "source": []
  },
  {
   "cell_type": "code",
   "execution_count": 2,
   "id": "d00a74be",
   "metadata": {},
   "outputs": [
    {
     "name": "stdout",
     "output_type": "stream",
     "text": [
      "25\n"
     ]
    }
   ],
   "source": [
    "# Example of multiplying 5 and 3, then adding 10 to the result\n",
    "result = (5 * 3) + 10\n",
    "print(result)"
   ]
  },
  {
   "cell_type": "code",
   "execution_count": 4,
   "id": "6a15d715",
   "metadata": {},
   "outputs": [
    {
     "name": "stdout",
     "output_type": "stream",
     "text": [
      "150 minutes is equal to 2.5 hours\n"
     ]
    }
   ],
   "source": [
    "# example of converting 150mins to hours\n",
    "minutes = 150\n",
    "hours = minutes/60\n",
    "print(f\"{minutes} minutes is equal to {hours} hours\")"
   ]
  },
  {
   "cell_type": "markdown",
   "id": "de8e582c",
   "metadata": {},
   "source": [
    "# Objectives\n",
    "The main objectives of this notebook is:\n",
    "1. complete the course project\n",
    "2. review the knowledge of tools for data science\n"
   ]
  },
  {
   "cell_type": "markdown",
   "id": "68190621",
   "metadata": {},
   "source": [
    "# Author\n",
    "Jacob Wu"
   ]
  }
 ],
 "metadata": {
  "kernelspec": {
   "display_name": "Python 3 (ipykernel)",
   "language": "python",
   "name": "python3"
  },
  "language_info": {
   "codemirror_mode": {
    "name": "ipython",
    "version": 3
   },
   "file_extension": ".py",
   "mimetype": "text/x-python",
   "name": "python",
   "nbconvert_exporter": "python",
   "pygments_lexer": "ipython3",
   "version": "3.10.9"
  }
 },
 "nbformat": 4,
 "nbformat_minor": 5
}
